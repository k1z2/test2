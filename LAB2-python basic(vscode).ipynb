{
 "cells": [
  {
   "cell_type": "markdown",
   "metadata": {},
   "source": [
    "# ArubaNetworks Automation product training - LAB2 (Python Lab Part)"
   ]
  },
  {
   "cell_type": "markdown",
   "metadata": {},
   "source": [
    "### Note: Before you start this lab, please ensure you did not ignore to run any of code cell. "
   ]
  },
  {
   "cell_type": "markdown",
   "metadata": {},
   "source": [
    "# 2.1 First Python code"
   ]
  },
  {
   "cell_type": "markdown",
   "metadata": {},
   "source": [
    "    #Let us start with a hello word Python code."
   ]
  },
  {
   "cell_type": "code",
   "execution_count": null,
   "metadata": {},
   "outputs": [],
   "source": [
    "#Say hello world in Python\n",
    "print(\"Hello World!\")"
   ]
  },
  {
   "cell_type": "code",
   "execution_count": null,
   "metadata": {
    "scrolled": true
   },
   "outputs": [],
   "source": [
    "name = input('what is your name?')\n",
    "print('Hello World! My name is', name)"
   ]
  },
  {
   "cell_type": "markdown",
   "metadata": {},
   "source": [
    "    #Yes, that is it. In this examplae we got input() function to take charge of inputting and print() function for outputing."
   ]
  },
  {
   "cell_type": "markdown",
   "metadata": {},
   "source": [
    "# 2.2 Command  Python Data types"
   ]
  },
  {
   "cell_type": "markdown",
   "metadata": {},
   "source": [
    "    #Next we will show common data types in python and how to access it. Let us be familiar with common python data types first."
   ]
  },
  {
   "cell_type": "markdown",
   "metadata": {},
   "source": [
    "####  Data Type 1 -String"
   ]
  },
  {
   "cell_type": "code",
   "execution_count": null,
   "metadata": {},
   "outputs": [],
   "source": [
    "print(\"ABC\")"
   ]
  },
  {
   "cell_type": "markdown",
   "metadata": {},
   "source": [
    "    #We can use type() function to know what the data type is."
   ]
  },
  {
   "cell_type": "code",
   "execution_count": null,
   "metadata": {},
   "outputs": [],
   "source": [
    "print(type(\"ABC\"))"
   ]
  },
  {
   "cell_type": "markdown",
   "metadata": {},
   "source": [
    "    #Right,it is a string. but if we print ABC without quotos? what will happen?"
   ]
  },
  {
   "cell_type": "code",
   "execution_count": null,
   "metadata": {},
   "outputs": [],
   "source": [
    "print(ABC)"
   ]
  },
  {
   "cell_type": "markdown",
   "metadata": {},
   "source": [
    "    #You can see the different is the first \"ABC\" is a string, but second one is a variable which is not defined yet."
   ]
  },
  {
   "cell_type": "markdown",
   "metadata": {},
   "source": [
    "    #Variable is the logical names that you give to refer the memory/address space that holds the data you need for your computation. Python supports a variety of data types:\n",
    "    -string (character, character sequence)\n",
    "    -numeric (integer, floating point)\n",
    "    -boolean\n",
    "    -lists (collection of values)\n",
    "    -Dictionary\n",
    "    -Nonetype\n",
    "    -custom datatypes (objects of classes)\n",
    "    etc.\n",
    "\n",
    "    we have already shown the string, let's learn others."
   ]
  },
  {
   "cell_type": "markdown",
   "metadata": {},
   "source": [
    "#### Data type 2 - Numberic "
   ]
  },
  {
   "cell_type": "markdown",
   "metadata": {},
   "source": [
    "    #Float"
   ]
  },
  {
   "cell_type": "code",
   "execution_count": null,
   "metadata": {},
   "outputs": [],
   "source": [
    "ABC = 2 * 1.5;\n",
    "print(ABC)\n",
    "print(type(ABC))"
   ]
  },
  {
   "cell_type": "markdown",
   "metadata": {},
   "source": [
    "    #Integer."
   ]
  },
  {
   "cell_type": "code",
   "execution_count": null,
   "metadata": {},
   "outputs": [],
   "source": [
    "ABC = 2 * 3\n",
    "print(ABC)\n",
    "print(type(ABC))"
   ]
  },
  {
   "cell_type": "markdown",
   "metadata": {},
   "source": [
    "    #what do you think \"1\" is a string or integer?"
   ]
  },
  {
   "cell_type": "code",
   "execution_count": null,
   "metadata": {},
   "outputs": [],
   "source": [
    "print(type(\"1\"))"
   ]
  },
  {
   "cell_type": "markdown",
   "metadata": {},
   "source": [
    "    #Right, it is a string. which can be quoted by single quoto'' or double quotes \"\". any possible tranfter this string into a integer? Use int() function. likewise, you can use str() function tansfer other types to a string."
   ]
  },
  {
   "cell_type": "code",
   "execution_count": null,
   "metadata": {},
   "outputs": [],
   "source": [
    "print(int(\"1\"))\n",
    "print(type(int(\"1\")))"
   ]
  },
  {
   "cell_type": "code",
   "execution_count": null,
   "metadata": {},
   "outputs": [],
   "source": [
    "print(type(str(1)))"
   ]
  },
  {
   "cell_type": "markdown",
   "metadata": {},
   "source": [
    "#### Data type 4 - List"
   ]
  },
  {
   "cell_type": "markdown",
   "metadata": {},
   "source": [
    "    #Lists and tuples are collection of items of heterogenous/homogenous types. However,\n",
    "    -lists are mutable and tuples are immutable.\n",
    "    -list items are enclosed within sqaure brackets [] and tuple items are enclosed within paranthesis ()\n",
    "    let's check an example of list."
   ]
  },
  {
   "cell_type": "code",
   "execution_count": null,
   "metadata": {},
   "outputs": [],
   "source": [
    "ABC = [apple,orange,watermelon,pear]"
   ]
  },
  {
   "cell_type": "markdown",
   "metadata": {},
   "source": [
    "    #Pleae notice that there is an NameError said the variable is not defined. let us change the variable to a string."
   ]
  },
  {
   "cell_type": "code",
   "execution_count": null,
   "metadata": {},
   "outputs": [],
   "source": [
    "ABC = [\"apple\",\"orange\",\"watermelon\",\"pear\"]\n",
    "print(ABC)\n",
    "print(type(ABC))"
   ]
  },
  {
   "cell_type": "markdown",
   "metadata": {},
   "source": [
    "    #How to access and print the first element of this list?"
   ]
  },
  {
   "cell_type": "code",
   "execution_count": null,
   "metadata": {},
   "outputs": [],
   "source": [
    "print(ABC[0])"
   ]
  },
  {
   "cell_type": "markdown",
   "metadata": {},
   "source": [
    "    #How to access the last element \"pear\"?"
   ]
  },
  {
   "cell_type": "code",
   "execution_count": null,
   "metadata": {},
   "outputs": [],
   "source": [
    "print(ABC[-1])"
   ]
  },
  {
   "cell_type": "markdown",
   "metadata": {},
   "source": [
    "    #How to access all middle elements?"
   ]
  },
  {
   "cell_type": "code",
   "execution_count": null,
   "metadata": {},
   "outputs": [],
   "source": [
    "print(ABC[1:-1])"
   ]
  },
  {
   "cell_type": "markdown",
   "metadata": {},
   "source": [
    "    #Or you can run ABC[1:3], here \"3\" means \"-1\" which is the last element of the list. "
   ]
  },
  {
   "cell_type": "code",
   "execution_count": null,
   "metadata": {},
   "outputs": [],
   "source": [
    "print(ABC[1:3])"
   ]
  },
  {
   "cell_type": "markdown",
   "metadata": {},
   "source": [
    "    #What is the length of this list? you can use len() function."
   ]
  },
  {
   "cell_type": "code",
   "execution_count": null,
   "metadata": {},
   "outputs": [],
   "source": [
    "print(len(ABC))"
   ]
  },
  {
   "cell_type": "markdown",
   "metadata": {},
   "source": [
    "    #now let us play a tricky one. how to print the second letter of second element? In this case, it should be the \"r\" of \"Orange\"."
   ]
  },
  {
   "cell_type": "code",
   "execution_count": null,
   "metadata": {},
   "outputs": [],
   "source": [
    "print(ABC[1][1])"
   ]
  },
  {
   "cell_type": "markdown",
   "metadata": {},
   "source": [
    "#### Data type 5 - tuple"
   ]
  },
  {
   "cell_type": "code",
   "execution_count": null,
   "metadata": {},
   "outputs": [],
   "source": [
    "ABC = (1,2,3,4,5,6)\n",
    "print(ABC)\n",
    "print(type(ABC)) "
   ]
  },
  {
   "cell_type": "markdown",
   "metadata": {},
   "source": [
    "    #Can we change some data , for example replace the '3' in the tuple to 9, like a list? the answer is no. because list is mutable but tuple is not. check the example below."
   ]
  },
  {
   "cell_type": "code",
   "execution_count": null,
   "metadata": {},
   "outputs": [],
   "source": [
    "ABC[2] = 9"
   ]
  },
  {
   "cell_type": "markdown",
   "metadata": {},
   "source": [
    "#you will see a TypeError here. it means a tuple is immutable."
   ]
  },
  {
   "cell_type": "markdown",
   "metadata": {},
   "source": [
    "#### Data type 6 - Dictionary"
   ]
  },
  {
   "cell_type": "code",
   "execution_count": null,
   "metadata": {},
   "outputs": [],
   "source": [
    "ABC = {\n",
    "  \"name\":\"Tom\",\n",
    "  \"age\":\"36\",\n",
    "  \"Gender\":\"Male\"\n",
    "  }"
   ]
  },
  {
   "cell_type": "code",
   "execution_count": null,
   "metadata": {},
   "outputs": [],
   "source": [
    "print(type(ABC))"
   ]
  },
  {
   "cell_type": "markdown",
   "metadata": {},
   "source": [
    "    #how to know the age of Tom?"
   ]
  },
  {
   "cell_type": "code",
   "execution_count": null,
   "metadata": {},
   "outputs": [],
   "source": [
    "print(ABC[\"age\"])"
   ]
  },
  {
   "cell_type": "markdown",
   "metadata": {},
   "source": [
    "    #now we realized that his age is wrong, he is 40 aleady. then how to change his age in the dictionary?"
   ]
  },
  {
   "cell_type": "code",
   "execution_count": null,
   "metadata": {},
   "outputs": [],
   "source": [
    "ABC['age'] = 40"
   ]
  },
  {
   "cell_type": "code",
   "execution_count": null,
   "metadata": {},
   "outputs": [],
   "source": [
    "print(ABC)"
   ]
  },
  {
   "cell_type": "markdown",
   "metadata": {},
   "source": [
    "    #how about if we have a list of dictionary?"
   ]
  },
  {
   "cell_type": "code",
   "execution_count": null,
   "metadata": {},
   "outputs": [],
   "source": [
    "ABC = [{\n",
    "  \"name\":\"Tom\",\n",
    "  \"age\":\"36\",\n",
    "  \"Gender\":\"Male\"\n",
    "  },{\n",
    "  \"name\":\"BOB\",\n",
    "  \"age\":\"20\",\n",
    "  \"Gender\":\"Male\"\n",
    "  },{\n",
    "  \"name\":\"Alice\",\n",
    "  \"age\":\"26\",\n",
    "  \"Gender\":\"Female\"\n",
    "  }\n",
    "]"
   ]
  },
  {
   "cell_type": "code",
   "execution_count": null,
   "metadata": {},
   "outputs": [],
   "source": [
    "print(type(ABC))"
   ]
  },
  {
   "cell_type": "markdown",
   "metadata": {},
   "source": [
    "    #how to know Alice's age?"
   ]
  },
  {
   "cell_type": "code",
   "execution_count": null,
   "metadata": {},
   "outputs": [],
   "source": [
    "print(ABC[2][\"age\"])"
   ]
  },
  {
   "cell_type": "markdown",
   "metadata": {},
   "source": [
    "#### Data type 7 - Boolean"
   ]
  },
  {
   "cell_type": "code",
   "execution_count": null,
   "metadata": {},
   "outputs": [],
   "source": [
    "ABC = True\n",
    "print(type(ABC))"
   ]
  },
  {
   "cell_type": "code",
   "execution_count": null,
   "metadata": {},
   "outputs": [],
   "source": [
    "print(type(ABC))"
   ]
  },
  {
   "cell_type": "code",
   "execution_count": null,
   "metadata": {},
   "outputs": [],
   "source": [
    "ABC = not True\n",
    "print(ABC)"
   ]
  },
  {
   "cell_type": "markdown",
   "metadata": {},
   "source": [
    "#### Data type 8 - NoneType"
   ]
  },
  {
   "cell_type": "markdown",
   "metadata": {},
   "source": [
    "    #A function implicitly returns None if it reaches the end of the function's block of statements and does not encounter a return statement. "
   ]
  },
  {
   "cell_type": "code",
   "execution_count": null,
   "metadata": {},
   "outputs": [],
   "source": [
    "def has_no_return_function():\n",
    "    print (\"I have no return\")\n",
    "\n",
    "print (type(has_no_return_function()))"
   ]
  },
  {
   "cell_type": "markdown",
   "metadata": {},
   "source": [
    "# 2.3 If sentence"
   ]
  },
  {
   "cell_type": "markdown",
   "metadata": {},
   "source": [
    "    Before run the below program,consider which sentence will be printed. then run the cell and verify if you are right."
   ]
  },
  {
   "cell_type": "code",
   "execution_count": null,
   "metadata": {},
   "outputs": [],
   "source": [
    "a = 100\n",
    "b = 99\n",
    "if b > a:\n",
    "  print(\"b is greater than a\")\n",
    "elif a == b:\n",
    "  print(\"a and b are equal\")\n",
    "else:\n",
    "  print(\"a is greater than b\")\n"
   ]
  },
  {
   "cell_type": "markdown",
   "metadata": {},
   "source": [
    "    #Note: here you may notice None is almost equal to False in the If statement. why we say it is almost?  See below examples to understand the similarity and difference:"
   ]
  },
  {
   "cell_type": "code",
   "execution_count": null,
   "metadata": {},
   "outputs": [],
   "source": [
    "x = None\n",
    "print(x)"
   ]
  },
  {
   "cell_type": "code",
   "execution_count": null,
   "metadata": {},
   "outputs": [],
   "source": [
    "print(not x)"
   ]
  },
  {
   "cell_type": "code",
   "execution_count": null,
   "metadata": {},
   "outputs": [],
   "source": [
    "if (not x):\n",
    " print (\"'if not x'. This means 'not x' is true\")"
   ]
  },
  {
   "cell_type": "code",
   "execution_count": null,
   "metadata": {},
   "outputs": [],
   "source": [
    "if x == False:\n",
    "  print('x is False')"
   ]
  },
  {
   "cell_type": "markdown",
   "metadata": {},
   "source": [
    "    #Why above program has no output? this means 'X' is not 'False'."
   ]
  },
  {
   "cell_type": "code",
   "execution_count": null,
   "metadata": {},
   "outputs": [],
   "source": [
    "if (not x) == (not False):\n",
    "    print (\"'not x' equals 'not False'\")\n",
    "#not x equals not False"
   ]
  },
  {
   "cell_type": "markdown",
   "metadata": {},
   "source": [
    "# 2.4 Python Loops"
   ]
  },
  {
   "cell_type": "markdown",
   "metadata": {},
   "source": [
    "    #While Loop.\n",
    "    Let us look at While loop first.The while loop in Python executes a block of code until the specified condition becomes False. In another words, the code within the statement will continue to execute, repetitiously, until the condition is no longer valid. "
   ]
  },
  {
   "cell_type": "code",
   "execution_count": null,
   "metadata": {},
   "outputs": [],
   "source": [
    "i=1\n",
    "while i<3:\n",
    "  print(i)\n",
    "  i+=1\n",
    "else:\n",
    " print(\"i is no longer less than 3\")\n"
   ]
  },
  {
   "source": [
    "!python -m pip install import_ipynb\n",
    "!python -m pip install nbformat"
   ],
   "cell_type": "code",
   "metadata": {},
   "execution_count": null,
   "outputs": []
  },
  {
   "cell_type": "markdown",
   "metadata": {},
   "source": [
    "    \n",
    "    #for loop. \n",
    "    Let us look at the examples shown in the presentation."
   ]
  },
  {
   "cell_type": "code",
   "execution_count": null,
   "metadata": {},
   "outputs": [],
   "source": [
    "for x in range(3,5):\n",
    "    print(x)\n"
   ]
  },
  {
   "cell_type": "code",
   "execution_count": null,
   "metadata": {},
   "outputs": [],
   "source": [
    "fruits = ['apple','banana','cherry']\n",
    "for x in fruits:\n",
    "  print(x)"
   ]
  },
  {
   "cell_type": "markdown",
   "metadata": {},
   "source": [
    "    #In the below example,we will see how to loop in the keys and Values of a dictionary."
   ]
  },
  {
   "cell_type": "code",
   "execution_count": null,
   "metadata": {},
   "outputs": [],
   "source": [
    "super_heroes = {'Captain America':'Steve Rogers','Spiderman':'Peter Parker'}\n",
    "for superhero in super_heroes.keys():\n",
    " print(superhero)"
   ]
  },
  {
   "cell_type": "code",
   "execution_count": null,
   "metadata": {},
   "outputs": [],
   "source": [
    "super_heroes = {'Captain America':'Steve Rogers','Spiderman':'Peter Parker'}\n",
    "for superhero in super_heroes.values():\n",
    " print(superhero)"
   ]
  },
  {
   "cell_type": "markdown",
   "metadata": {},
   "source": [
    "# 2.5 Python Functions"
   ]
  },
  {
   "cell_type": "markdown",
   "metadata": {},
   "source": [
    "    #A function is a block of code which only runs when it is called. You can pass data, known as parameters or arguments, into a function. we have aleady seen some built-in function, like input() and print() in previous examples. Let us look an easy custom function without argument shown in the presentation."
   ]
  },
  {
   "cell_type": "code",
   "execution_count": null,
   "metadata": {},
   "outputs": [],
   "source": [
    "#A Function without argument\n",
    "\n",
    "#define the function\n",
    "\n",
    "def my_function():\n",
    "  print(\"Hello World!\")\n",
    "\n",
    "#call the function\n",
    "my_function()\n"
   ]
  },
  {
   "cell_type": "code",
   "execution_count": null,
   "metadata": {},
   "outputs": [],
   "source": [
    "#A Function with arguments\n",
    "\n",
    "def my_function(firstname):\n",
    "  print('Hello ' + firstname)\n",
    "\n",
    "\n",
    "my_function('Alice')\n",
    "\n",
    "my_function('Bob')"
   ]
  },
  {
   "cell_type": "markdown",
   "metadata": {},
   "source": [
    "# 2.6 Pyhon Modules"
   ]
  },
  {
   "attachments": {},
   "cell_type": "markdown",
   "metadata": {},
   "source": [
    "    #Module is a set of functions in a file. When using a function from a module, use the syntax: module_name.function_name."
   ]
  },
  {
   "cell_type": "markdown",
   "metadata": {},
   "source": [
    "    #Note Here, Because the notenook is not python format. so we have to install a external module to support Jupyter notebook can read the modules in another notebook. in this case that module name is \"demo_module3\". if the module name is python format with \".py\", then no need to install import_ipynb module."
   ]
  },
  {
   "source": [
    "import os\n",
    "os.getcwd()\n",
    "import sys\n",
    "sys.path.append(\"c://users/student/appdata/local/programs/python/python37-32/lib/site-packages\")"
   ],
   "cell_type": "code",
   "metadata": {},
   "execution_count": null,
   "outputs": []
  },
  {
   "cell_type": "code",
   "execution_count": null,
   "metadata": {},
   "outputs": [],
   "source": [
    "#import the module and call the function\n",
    "import import_ipynb\n",
    "import demo_module_1"
   ]
  },
  {
   "cell_type": "code",
   "execution_count": null,
   "metadata": {},
   "outputs": [],
   "source": [
    "#run functions inside the module.\n",
    "demo_module_1.greeting('Jonathan')\n",
    "demo_module_1.room('101')"
   ]
  },
  {
   "cell_type": "markdown",
   "metadata": {},
   "source": [
    "#### Understand ' _  _ main _  _  '"
   ]
  },
  {
   "cell_type": "markdown",
   "metadata": {},
   "source": [
    "    #Every Python module has it’s __name__ defined and if this is ‘__main__’, it implies that the module is running standalone by the user. \n",
    "    If you import this script as a module in another script, the __name__ is set to the name of the script/module.\n",
    "    if __name__ == “main”: is used to execute some code only if the file was run directly, and not imported. "
   ]
  },
  {
   "cell_type": "markdown",
   "metadata": {},
   "source": [
    "    #In the demo_module,we have a function named \"test_main\". \n",
    "     \n",
    "        def test_main():\n",
    "          print(\"check out if 'the name is __main__' is printed below\")\n",
    "          if __name__=='__main__':\n",
    "            print('the name is __main__')\n",
    "    \n",
    "        \n",
    "    You may notice that in this function there is a print sentence and an IF sentence. if the name == __main__, it will print out \"hello test_main\". now exceute the below code."
   ]
  },
  {
   "cell_type": "code",
   "execution_count": null,
   "metadata": {},
   "outputs": [],
   "source": [
    "demo_module_1.test_main()"
   ]
  },
  {
   "cell_type": "markdown",
   "metadata": {},
   "source": [
    "    #NOTE: looks like \"the name is __main__\" is not shown. this means this module used here itself is not \"__main__\".\n",
    "    You can go back demo_module to excecute that code, you will see it will print out \"the name is __main__\".because that function is excuted locally, not from other module."
   ]
  },
  {
   "cell_type": "markdown",
   "metadata": {},
   "source": [
    "# 2.7 Python Classes and Objects"
   ]
  },
  {
   "cell_type": "markdown",
   "metadata": {},
   "source": [
    "    #Python is an object-oriented programming (OOP) language.A Class is a means of bundling data and functionality. \n",
    "    A Class is like an object constructor, or a \"blueprint\" for creating objects.The __init__() function is called automatically every time the class is being used to create a new object"
   ]
  },
  {
   "attachments": {},
   "cell_type": "markdown",
   "metadata": {},
   "source": [
    "    #Example 1: Create a class named Person, use the __init__() function to assign values for name and age"
   ]
  },
  {
   "cell_type": "code",
   "execution_count": null,
   "metadata": {},
   "outputs": [],
   "source": [
    "class Person:                                    # class is a keyword and “Person” is the name of the class\n",
    "  def __init__(self, name,age,gender):                 # constructor method -instantiation\n",
    "    self.name = name                             # the first piece of data is the name\n",
    "    self.age = age                               # the second piece of data is the age\n",
    "    self.gender = gender                               # the third piece of data is the gender\n",
    "\n",
    "P1=Person('Tom',25,'male')        #P1 is an object (or instance of class).When executed, think of P1 'replacing' the word self \n",
    "\n",
    "print(P1.name)             # returns Tom so you can think of P1 as replacing the word ‘self’\n",
    "\n",
    "print(P1.age)              #returns 25 so you can think of P1 as replacing the word ‘self’ \n",
    "\n",
    "print(P1.gender)           #returns male so you can think of P1 as replacing the word ‘self’ \n",
    "\n",
    "print(P1)\n",
    "    \n",
    "    "
   ]
  },
  {
   "cell_type": "markdown",
   "metadata": {},
   "source": [
    "    #The self Parameter.\n",
    "    The self parameter is a reference to the current instance of the class. You will use the self parameter to access variables belonging to the class. It does not have to be named self − you can call it whatever you like − but it has to be the first parameter of any function in the class.\n"
   ]
  },
  {
   "cell_type": "code",
   "execution_count": null,
   "metadata": {},
   "outputs": [],
   "source": [
    "class Person:   # class is a keyword\n",
    "  def __init__(self, name, age):   # constructor nethod -instantiation\n",
    "    self.name = name   # the first piece of data is the name\n",
    "    self.age = age    # the second piece of data is the age\n",
    "\n",
    "  def myfunc(self): #return state of object \n",
    "    print('Hello my name is ' + self.name + ' and my age is '+str(self.age))   \n",
    "    \n",
    "P1=Person('Tom',25)            # P1 is an object\n",
    "P1.myfunc()  \n"
   ]
  },
  {
   "cell_type": "markdown",
   "metadata": {},
   "source": [
    "# 2.8 Try Except"
   ]
  },
  {
   "cell_type": "markdown",
   "metadata": {},
   "source": [
    "    #The try block lets you test a block of code for errors.\n",
    "    The except block lets you handle the error.\n",
    "    If there is no exception, then else block will be executed\n",
    "    The finally block lets you execute code, regardless of the result of the try- and except blocks.(optional)\n"
   ]
  },
  {
   "cell_type": "code",
   "execution_count": null,
   "metadata": {},
   "outputs": [],
   "source": [
    "def divide(x, y):\n",
    "    try:\n",
    "        # Floor Division : Gives only Fractional\n",
    "        # Part as Answer\n",
    "        result = x / y\n",
    "    except ZeroDivisionError as error:\n",
    "        print(\"Sorry ! You are dividing by zero \")\n",
    "        print(error)\n",
    "    else:\n",
    "        print(\"Yeah ! Your answer is :\", result)\n",
    "    finally:\n",
    "        print('##This is always printed##')       \n"
   ]
  },
  {
   "cell_type": "markdown",
   "metadata": {},
   "source": [
    "       #let the code excute below function. it will do try block first. because it never encounters any Error,so it will excute else block, then always excute finally block."
   ]
  },
  {
   "cell_type": "code",
   "execution_count": null,
   "metadata": {},
   "outputs": [],
   "source": [
    "divide(4, 2)"
   ]
  },
  {
   "cell_type": "markdown",
   "metadata": {},
   "source": [
    "    #let the code excute an error. it will do try block first, then it encounters an zeroDivisionError,then always excute finally block.\n"
   ]
  },
  {
   "cell_type": "code",
   "execution_count": null,
   "metadata": {},
   "outputs": [],
   "source": [
    "divide(4, 0)"
   ]
  },
  {
   "cell_type": "markdown",
   "metadata": {},
   "source": [
    "## You completed LAB2"
   ]
  }
 ],
 "metadata": {
  "kernelspec": {
   "name": "python3",
   "display_name": "Python 3.9.6 64-bit"
  },
  "language_info": {
   "codemirror_mode": {
    "name": "ipython",
    "version": 3
   },
   "file_extension": ".py",
   "mimetype": "text/x-python",
   "name": "python",
   "nbconvert_exporter": "python",
   "pygments_lexer": "ipython3",
   "version": "3.9.6"
  },
  "interpreter": {
   "hash": "e0e40265fc28ccc0865eea50bddb6e1dcf4d3a87d1a1b7916a506223c1366b3b"
  }
 },
 "nbformat": 4,
 "nbformat_minor": 4
}