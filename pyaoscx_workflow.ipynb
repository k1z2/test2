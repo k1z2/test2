{
 "cells": [
  {
   "cell_type": "raw",
   "metadata": {},
   "source": [
    "import pyaoscx\n",
    "from pyaoscx.session import Session\n",
    "from pyaoscx.pyaoscx_factory import PyaoscxFactory\n",
    "from pyaoscx.vlan import Vlan\n",
    "from pyaoscx.interface import Interface\n",
    "from pyaoscx.static_route import StaticRoute\n",
    "from pyaoscx.vrf import Vrf\n",
    "import urllib3\n",
    "urllib3.disable_warnings()"
   ]
  },
  {
   "cell_type": "code",
   "execution_count": null,
   "metadata": {},
   "outputs": [],
   "source": [
    "#get to know the pyaoscx and where it is installed.\n",
    "!pip show pyaoscx"
   ]
  },
  {
   "cell_type": "code",
   "execution_count": null,
   "metadata": {},
   "outputs": [],
   "source": [
    "# There are two approaches to workflows, both using the session.\n",
    "version = '10.04'\n",
    "switch_ip = '192.168.50.6'\n",
    "s = Session(switch_ip, version)\n",
    "s.open('admin', 'admin1')\n"
   ]
  },
  {
   "cell_type": "code",
   "execution_count": null,
   "metadata": {},
   "outputs": [],
   "source": [
    "# APPROACH 1: OPEN GRANULATED APPROACH VLAN\n",
    "# Create Vlan object -- Not yet materialized\n",
    "#Vlan is Python Class has been defined in PYTHON module pycentral.vlan\n",
    "#vlan202 is a object or instance of this Class\n",
    "\n",
    "vlan202 = Vlan(s, 202, name=\"VLAN 202\", voice=True)\n"
   ]
  },
  {
   "cell_type": "code",
   "execution_count": null,
   "metadata": {},
   "outputs": [],
   "source": [
    "# Since object is not materialized, performs a POST request -- This method internally makes a GET request right after the POST\n",
    "# Obtaining all attributes VLAN related\n",
    "#If you an \"Internal server error\", that means the vlan is already exsisted.\n",
    "vlan202.apply()\n"
   ]
  },
  {
   "cell_type": "code",
   "execution_count": null,
   "metadata": {},
   "outputs": [],
   "source": [
    "vrf_obj1= pyaoscx.vrf.get(s)"
   ]
  },
  {
   "cell_type": "code",
   "execution_count": null,
   "metadata": {},
   "outputs": [],
   "source": [
    "pyaoscx.static_route.StaticRoute.get_all(s,'default')"
   ]
  },
  {
   "cell_type": "code",
   "execution_count": null,
   "metadata": {},
   "outputs": [],
   "source": [
    "Vrf.get_all(s)"
   ]
  },
  {
   "cell_type": "code",
   "execution_count": null,
   "metadata": {},
   "outputs": [],
   "source": [
    "#add description for vlan200\n",
    "vlan202.description = \"New description, changed via pyaoscx SDK1\"\n",
    "vlan202.apply()\n",
    "\n",
    "# Now vlan202 contains the description attribute\n",
    "print(\"VLAN 202 description {}\".format(vlan202.description))\n",
    "\n",
    "    # ===========================================================\n",
    "    # ===========================================================\n",
    "    # ==========================================================="
   ]
  },
  {
   "cell_type": "code",
   "execution_count": null,
   "metadata": {},
   "outputs": [],
   "source": [
    "# Now let's create another object, that we know already exists inside of the Switch\n",
    "vlan1 = Vlan(s, 1)\n",
    "# Perform a GET request to obtain all data and materialize object\n",
    "vlan1.get()\n"
   ]
  },
  {
   "cell_type": "code",
   "execution_count": null,
   "metadata": {},
   "outputs": [],
   "source": [
    "# Now, we are able to modify the objects internal attributes\n",
    "vlan1.voice = True\n",
    "# Apply changes\n",
    "changed = vlan1.apply()\n",
    "# If changed is True, a PUT request was done and object was modified"
   ]
  },
  {
   "cell_type": "code",
   "execution_count": null,
   "metadata": {},
   "outputs": [],
   "source": [
    "# APPROACH 2: IMPERATIVE FACTORY APPROACH\n",
    "# VLAN\n",
    "# Create Factory object, passing the Session Object\n",
    "factory = PyaoscxFactory(s)\n"
   ]
  },
  {
   "cell_type": "code",
   "execution_count": null,
   "metadata": {},
   "outputs": [],
   "source": [
    "# Create Vlan object\n",
    "# If vlan is non-existent, Factory instantly creates it inside the switch device\n",
    "vlan201 = factory.vlan(201, \"NAME201\")\n",
    "\n",
    "    # Now the granulated approach could still be used.\n",
    "    # Or an imperative method too\n",
    "\n",
    "    # ===========================================================\n",
    "    # ===========================================================\n",
    "    # ===========================================================\n"
   ]
  },
  {
   "cell_type": "code",
   "execution_count": null,
   "metadata": {},
   "outputs": [],
   "source": []
  },
  {
   "cell_type": "code",
   "execution_count": null,
   "metadata": {},
   "outputs": [],
   "source": [
    "# More complex example using the OPEN GRANULATED APPROACH\n",
    "# Create an Interface object\n",
    "\n",
    "lag = Interface(s, 'lag1')\n",
    "lag.apply()\n",
    "\n"
   ]
  },
  {
   "cell_type": "code",
   "execution_count": null,
   "metadata": {},
   "outputs": [],
   "source": [
    "# Create a Vlan object\n",
    "\n",
    "vlan_1 = Vlan(s, 1)\n",
    "    # In this case, now that the VLAN exists within the Switch,\n",
    "    # a GET request is called to obtain the VLAN's information.\n",
    "    # The information is then added to the object as attributes.\n",
    "vlan_1.get()\n",
    "\n",
    " "
   ]
  },
  {
   "cell_type": "code",
   "execution_count": null,
   "metadata": {},
   "outputs": [],
   "source": [
    "   # Interfaces/Ports added to LAG\n",
    "port_1_1_8 = Interface(s, '1/1/8')\n",
    "port_1_1_8.get()\n",
    "    # Make changes to configure LAG as L2\n",
    "lag.admin = 'down'\n",
    "lag.routing = False\n",
    "lag.vlan_trunks = [vlan_1]\n",
    "lag.lacp = \"passive\"\n",
    "lag.other_config[\"mclag_enabled\"] = False\n",
    "lag.other_config[\"lacp-fallback\"] = False\n",
    "lag.vlan_mode = \"native-untagged\"\n",
    "lag.vlan_tag = vlan_1\n",
    "    # Add port as LAG member\n",
    "lag.interfaces.append(port_1_1_8)\n",
    "\n",
    "    # Apply changes\n",
    "lag.apply()\n",
    "\n",
    "    # ===========================================================\n",
    "    # ===========================================================\n",
    "    # ==========================================================="
   ]
  },
  {
   "cell_type": "code",
   "execution_count": null,
   "metadata": {},
   "outputs": [],
   "source": [
    "# Same complex example using the IMPERATIVE FACTORY APPROACH\n",
    "# PLUS USING IMPERATIVE METHODS\n",
    "\n",
    "# Create the Interface object\n",
    "lag2 = factory.interface('lag2')\n",
    "modified = lag2.configure_l2(\n",
    "        description=\"Created using imperative method\",\n",
    "        admin='up',\n",
    "        vlan_mode=\"native-untagged\",\n",
    "        vlan_tag=1,\n",
    "        trunk_allowed_all=True,\n",
    "        native_vlan_tag=True)\n",
    "\n",
    "# If modified is True, a PUT request was done and object was modified\n",
    "\n"
   ]
  },
  {
   "cell_type": "code",
   "execution_count": null,
   "metadata": {},
   "outputs": [],
   "source": [
    "Vlan.get_all(s)"
   ]
  },
  {
   "cell_type": "code",
   "execution_count": null,
   "metadata": {},
   "outputs": [],
   "source": [
    "pyaoscx.vlan.create_vlan_and_svi(203, \"vlan_name203\", \"1/1/2\", vlan_port_desc=\"testNone\")"
   ]
  },
  {
   "cell_type": "code",
   "execution_count": null,
   "metadata": {},
   "outputs": [],
   "source": [
    "# At the end, the session MUST be closed\n",
    "s.close()"
   ]
  },
  {
   "cell_type": "markdown",
   "metadata": {},
   "source": [
    "# Try block is used so that session closes even on error.\n",
    "try:\n",
    "    # APPROACH 1: OPEN GRANULATED APPROACH\n",
    "    # VLAN\n",
    "    # Create Vlan object -- Not yet materialized\n",
    "    vlan100 = Vlan(s, 100, name=\"VLAN 100\", voice=True)\n",
    "\n",
    "    # Since object is not materialized, performs\n",
    "    # a POST request -- This method internally\n",
    "    # makes a GET request right after the POST\n",
    "    # Obtaining all attributes VLAN related\n",
    "    vlan100.apply()\n",
    "\n",
    "    # Now let's create another object, that we know already exists\n",
    "    # inside of the Switch\n",
    "    vlan1 = Vlan(s, 1)\n",
    "    # Perform a GET request to obtain all data and materialize object\n",
    "    vlan1.get()\n",
    "    # Now, we are able to modify the objects internal attributes\n",
    "    vlan1.voice = True\n",
    "    # Apply changes\n",
    "    changed = vlan1.apply()\n",
    "    # If changed is True, a PUT request was done and object was modified\n",
    "\n",
    "    vlan100.description = \"New description, changed via pyaoscx SDK\"\n",
    "    vlan100.apply()\n",
    "    # Now vlan100 contains the description attribute\n",
    "    print(\"VLAN 100 description {}\".format(vlan100.description))\n",
    "\n",
    "    # ===========================================================\n",
    "    # ===========================================================\n",
    "    # ===========================================================\n",
    "\n",
    "    # APPROACH 2: IMPERATIVE FACTORY APPROACH\n",
    "    # VLAN\n",
    "    # Create Factory object, passing the Session Object\n",
    "    factory = PyaoscxFactory(s)\n",
    "\n",
    "    # Create Vlan object\n",
    "    # If vlan is non-existent, Factory instantly creates it\n",
    "    # inside the switch device\n",
    "    vlan200 = factory.vlan(200, \"NAME200\")\n",
    "\n",
    "    # Now the granulated approach could still be used.\n",
    "    # Or an imperative method too\n",
    "\n",
    "    # ===========================================================\n",
    "    # ===========================================================\n",
    "    # ===========================================================\n",
    "\n",
    "    # More complex example using the OPEN GRANULATED APPROACH\n",
    "    # Create an Interface object\n",
    "\n",
    "    lag = Interface(s, 'lag1')\n",
    "    lag.apply()\n",
    "\n",
    "    # Create a Vlan object\n",
    "\n",
    "    vlan_1 = Vlan(s, 1)\n",
    "    # In this case, now that the VLAN exists within the Switch,\n",
    "    # a GET request is called to obtain the VLAN's information.\n",
    "    # The information is then added to the object as attributes.\n",
    "    vlan_1.get()\n",
    "    # Interfaces/Ports added to LAG\n",
    "    port_1_1_11 = Interface(s, '1/1/11')\n",
    "    port_1_1_11.get()\n",
    "    # Make changes to configure LAG as L2\n",
    "    lag.admin = 'down'\n",
    "    lag.routing = False\n",
    "    lag.vlan_trunks = [vlan_1]\n",
    "    lag.lacp = \"passive\"\n",
    "    lag.other_config[\"mclag_enabled\"] = False\n",
    "    lag.other_config[\"lacp-fallback\"] = False\n",
    "    lag.vlan_mode = \"native-untagged\"\n",
    "    lag.vlan_tag = vlan_1\n",
    "    # Add port as LAG member\n",
    "    lag.interfaces.append(port_1_1_11)\n",
    "\n",
    "    # Apply changes\n",
    "    lag.apply()\n",
    "\n",
    "    # ===========================================================\n",
    "    # ===========================================================\n",
    "    # ===========================================================\n",
    "\n",
    "    # Same complex example using the IMPERATIVE FACTORY APPROACH\n",
    "    # PLUS USING IMPERATIVE METHODS\n",
    "\n",
    "    # Create the Interface object\n",
    "    lag2 = factory.interface('lag2')\n",
    "    modified = lag2.configure_l2(\n",
    "        description=\"Created using imperative method\",\n",
    "        admin='up',\n",
    "        vlan_mode=\"native-untagged\",\n",
    "        vlan_tag=1,\n",
    "        trunk_allowed_all=True,\n",
    "        native_vlan_tag=True)\n",
    "    # If modified is True, a PUT request was done and object was modified\n",
    "\n",
    "except Exception as error:\n",
    "    print('Ran into exception: {}. Closing session.'.format(error))\n",
    "\n",
    "finally:\n",
    "    # At the end, the session MUST be closed\n",
    "    s.close()\n"
   ]
  }
 ],
 "metadata": {
  "kernelspec": {
   "display_name": "Python 3",
   "language": "python",
   "name": "python3"
  },
  "language_info": {
   "codemirror_mode": {
    "name": "ipython",
    "version": 3
   },
   "file_extension": ".py",
   "mimetype": "text/x-python",
   "name": "python",
   "nbconvert_exporter": "python",
   "pygments_lexer": "ipython3",
   "version": "3.8.5"
  }
 },
 "nbformat": 4,
 "nbformat_minor": 4
}
